{
 "cells": [
  {
   "cell_type": "code",
   "execution_count": 12,
   "metadata": {
    "collapsed": true
   },
   "outputs": [],
   "source": [
    "import json\n",
    "import pandas as pd\n",
    "import matplotlib.pyplot as plt\n",
    "%matplotlib inline"
   ]
  },
  {
   "cell_type": "code",
   "execution_count": 2,
   "metadata": {
    "collapsed": true
   },
   "outputs": [],
   "source": [
    "tweets_data_path = \"c:/dellbackup/all things data science/datasets/twitter_data_bands.txt\""
   ]
  },
  {
   "cell_type": "code",
   "execution_count": 3,
   "metadata": {
    "collapsed": true
   },
   "outputs": [],
   "source": [
    "tweets_data = []"
   ]
  },
  {
   "cell_type": "code",
   "execution_count": 4,
   "metadata": {
    "collapsed": true
   },
   "outputs": [],
   "source": [
    "tweets_file = open(tweets_data_path,\"r\")"
   ]
  },
  {
   "cell_type": "code",
   "execution_count": 5,
   "metadata": {
    "collapsed": true
   },
   "outputs": [],
   "source": [
    "#reading the data into array \n",
    "for line in tweets_file:\n",
    "    try:\n",
    "        tweet = json.loads(line)\n",
    "        tweets_data.append(tweet)\n",
    "    except:\n",
    "        continue"
   ]
  },
  {
   "cell_type": "code",
   "execution_count": 6,
   "metadata": {
    "collapsed": false
   },
   "outputs": [
    {
     "name": "stdout",
     "output_type": "stream",
     "text": [
      "2485\n"
     ]
    }
   ],
   "source": [
    "print len(tweets_data)"
   ]
  },
  {
   "cell_type": "code",
   "execution_count": 7,
   "metadata": {
    "collapsed": true
   },
   "outputs": [],
   "source": [
    "#creating an empty dataframe \n",
    "tweets = pd.DataFrame()"
   ]
  },
  {
   "cell_type": "code",
   "execution_count": 8,
   "metadata": {
    "collapsed": true
   },
   "outputs": [],
   "source": [
    "tweets[\"text\"] = map(lambda tweet:tweet[\"text\"],tweets_data)\n",
    "tweets[\"lang\"] = map(lambda tweet:tweet[\"lang\"],tweets_data)\n",
    "tweets[\"country\"] = map(lambda tweet:tweet[\"place\"][\"country\"] if tweet[\"place\"] != None else None,tweets_data)"
   ]
  },
  {
   "cell_type": "code",
   "execution_count": 9,
   "metadata": {
    "collapsed": true
   },
   "outputs": [],
   "source": [
    "#first chart - top 5 languages the tweets are in\n",
    "tweets_by_lang = tweets[\"lang\"].value_counts()"
   ]
  },
  {
   "cell_type": "code",
   "execution_count": 10,
   "metadata": {
    "collapsed": false
   },
   "outputs": [
    {
     "data": {
      "text/plain": [
       "en     1803\n",
       "es      211\n",
       "pt      122\n",
       "ja       68\n",
       "und      67\n",
       "fr       57\n",
       "in       38\n",
       "it       35\n",
       "tr       20\n",
       "th       10\n",
       "de        8\n",
       "nl        7\n",
       "tl        7\n",
       "ko        5\n",
       "et        4\n",
       "no        3\n",
       "eu        3\n",
       "lt        2\n",
       "sv        2\n",
       "hu        2\n",
       "cs        2\n",
       "da        2\n",
       "pl        2\n",
       "ht        1\n",
       "ru        1\n",
       "hi        1\n",
       "ro        1\n",
       "kn        1\n",
       "Name: lang, dtype: int64"
      ]
     },
     "execution_count": 10,
     "metadata": {},
     "output_type": "execute_result"
    }
   ],
   "source": [
    "tweets_by_lang"
   ]
  },
  {
   "cell_type": "code",
   "execution_count": 17,
   "metadata": {
    "collapsed": false
   },
   "outputs": [
    {
     "data": {
      "text/plain": [
       "<matplotlib.axes._subplots.AxesSubplot at 0xed6bbe0>"
      ]
     },
     "execution_count": 17,
     "metadata": {},
     "output_type": "execute_result"
    },
    {
     "data": {
      "image/png": "[encoded data removed]",
      "text/plain": [
       "<matplotlib.figure.Figure at 0xedf7a58>"
      ]
     },
     "metadata": {},
     "output_type": "display_data"
    }
   ],
   "source": [
    "fig,ax = plt.subplots()\n",
    "ax.tick_params(axis = \"x\", labelsize = 15)\n",
    "ax.tick_params(axis = \"y\", labelsize = 10)\n",
    "ax.set_xlabel(\"Languages\", fontsize = 15)\n",
    "ax.set_ylabel(\"Number of tweets\", fontsize = 15)\n",
    "ax.set_title(\"Top five languages\", fontsize = 15, fontweight = \"bold\")\n",
    "tweets_by_lang[:5].plot(ax = ax, kind = \"bar\", color = \"blue\")"
   ]
  },
  {
   "cell_type": "code",
   "execution_count": 14,
   "metadata": {
    "collapsed": true
   },
   "outputs": [],
   "source": [
    "#second chart - country wise the top five countries the tweets are in\n",
    "tweets_by_country = tweets[\"country\"].value_counts()"
   ]
  },
  {
   "cell_type": "code",
   "execution_count": 15,
   "metadata": {
    "collapsed": false
   },
   "outputs": [
    {
     "data": {
      "text/plain": [
       "United States                  13\n",
       "Brasil                          8\n",
       "India                           4\n",
       "Brazil                          3\n",
       "Canada                          2\n",
       "Argentina                       2\n",
       "Italia                          2\n",
       "France                          2\n",
       "Colombia                        1\n",
       "Republic of the Philippines     1\n",
       "Suisse                          1\n",
       "Estados Unidos                  1\n",
       "Malaysia                        1\n",
       "Sudan                           1\n",
       "South Africa                    1\n",
       "Türkiye                         1\n",
       "Venezuela                       1\n",
       "The Netherlands                 1\n",
       "Indonesia                       1\n",
       "Portugal                        1\n",
       "Kingdom of Saudi Arabia         1\n",
       "Name: country, dtype: int64"
      ]
     },
     "execution_count": 15,
     "metadata": {},
     "output_type": "execute_result"
    }
   ],
   "source": [
    "tweets_by_country"
   ]
  },
  {
   "cell_type": "code",
   "execution_count": 16,
   "metadata": {
    "collapsed": false
   },
   "outputs": [
    {
     "data": {
      "text/plain": [
       "<matplotlib.axes._subplots.AxesSubplot at 0xe9f5860>"
      ]
     },
     "execution_count": 16,
     "metadata": {},
     "output_type": "execute_result"
    },
    {
     "data": {
      "image/png": "[encoded data removed]",
      "text/plain": [
       "<matplotlib.figure.Figure at 0xe9f5400>"
      ]
     },
     "metadata": {},
     "output_type": "display_data"
    }
   ],
   "source": [
    "fig,ax = plt.subplots()\n",
    "ax.tick_params(axis = \"x\", labelsize = 15)\n",
    "ax.tick_params(axis = \"y\", labelsize = 10)\n",
    "ax.set_xlabel(\"Countries\", fontsize = 15)\n",
    "ax.set_ylabel(\"Number of tweets\", fontsize = 15)\n",
    "ax.set_title(\"Top 5 countries\", fontsize = 15, fontweight = \"bold\")\n",
    "tweets_by_country[:5].plot(ax= ax, kind = \"bar\", color = \"green\")"
   ]
  },
  {
   "cell_type": "code",
   "execution_count": 18,
   "metadata": {
    "collapsed": true
   },
   "outputs": [],
   "source": [
    "#mining for the keywords using regular expressions\n",
    "import re"
   ]
  },
  {
   "cell_type": "code",
   "execution_count": 19,
   "metadata": {
    "collapsed": true
   },
   "outputs": [],
   "source": [
    "def word_in_text(word, text):\n",
    "    word = word.lower()\n",
    "    text = text.lower()\n",
    "    match = re.search(word,text)\n",
    "    if match:\n",
    "        return True\n",
    "    return False"
   ]
  },
  {
   "cell_type": "code",
   "execution_count": 20,
   "metadata": {
    "collapsed": true
   },
   "outputs": [],
   "source": [
    "#adding 3 more columns to tweets dataframe\n",
    "tweets[\"coldplay\"] = tweets[\"text\"].apply(lambda tweet:word_in_text(\"coldplay\",tweet))"
   ]
  },
  {
   "cell_type": "code",
   "execution_count": 21,
   "metadata": {
    "collapsed": true
   },
   "outputs": [],
   "source": [
    "tweets[\"beatles\"] = tweets[\"text\"].apply(lambda tweet:word_in_text(\"beatles\", tweet))"
   ]
  },
  {
   "cell_type": "code",
   "execution_count": 22,
   "metadata": {
    "collapsed": true
   },
   "outputs": [],
   "source": [
    "tweets[\"u2\"] = tweets[\"text\"].apply(lambda tweet:word_in_text(\"u2\",tweet))"
   ]
  },
  {
   "cell_type": "code",
   "execution_count": 23,
   "metadata": {
    "collapsed": false
   },
   "outputs": [
    {
     "name": "stdout",
     "output_type": "stream",
     "text": [
      "955\n"
     ]
    }
   ],
   "source": [
    "#calculating the number of tweets for each band\n",
    "print tweets[\"coldplay\"].value_counts()[True]"
   ]
  },
  {
   "cell_type": "code",
   "execution_count": 24,
   "metadata": {
    "collapsed": false
   },
   "outputs": [
    {
     "name": "stdout",
     "output_type": "stream",
     "text": [
      "1040\n"
     ]
    }
   ],
   "source": [
    "print tweets[\"beatles\"].value_counts()[True]"
   ]
  },
  {
   "cell_type": "code",
   "execution_count": 25,
   "metadata": {
    "collapsed": false
   },
   "outputs": [
    {
     "name": "stdout",
     "output_type": "stream",
     "text": [
      "348\n"
     ]
    }
   ],
   "source": [
    "print tweets[\"u2\"].value_counts()[True]"
   ]
  },
  {
   "cell_type": "code",
   "execution_count": 26,
   "metadata": {
    "collapsed": true
   },
   "outputs": [],
   "source": [
    "#making comparison chart\n",
    "bands = [\"coldplay\",\"beatles\",\"u2\"]\n",
    "tweets_by_bands = [tweets[\"coldplay\"].value_counts()[True],tweets[\"beatles\"].value_counts()[True],tweets[\"u2\"].value_counts()[True]]\n"
   ]
  },
  {
   "cell_type": "code",
   "execution_count": 27,
   "metadata": {
    "collapsed": true
   },
   "outputs": [],
   "source": [
    "x_pos = list(range(len(bands)))"
   ]
  },
  {
   "cell_type": "code",
   "execution_count": 30,
   "metadata": {
    "collapsed": false
   },
   "outputs": [
    {
     "data": {
      "image/png": "[encoded data removed]",
      "text/plain": [
       "<matplotlib.figure.Figure at 0xf3713c8>"
      ]
     },
     "metadata": {},
     "output_type": "display_data"
    }
   ],
   "source": [
    "width = 0.8\n",
    "fig,ax = plt.subplots()\n",
    "plt.bar(x_pos, tweets_by_bands,width,alpha = 1, color = \"g\")\n",
    "ax.set_ylabel(\"Number of tweets\", fontsize = 15)\n",
    "ax.set_title(\"Ranking: Coldplay vs the Beatles vs U2 (Raw data)\",fontsize = 10, fontweight = \"bold\")\n",
    "ax.set_xticks([p + 0.4 * width for p in x_pos])\n",
    "ax.set_xticklabels(bands)\n",
    "plt.grid()"
   ]
  },
  {
   "cell_type": "code",
   "execution_count": null,
   "metadata": {
    "collapsed": false
   },
   "outputs": [],
   "source": []
  },
  {
   "cell_type": "code",
   "execution_count": null,
   "metadata": {
    "collapsed": true
   },
   "outputs": [],
   "source": []
  },
  {
   "cell_type": "code",
   "execution_count": null,
   "metadata": {
    "collapsed": false
   },
   "outputs": [],
   "source": []
  },
  {
   "cell_type": "code",
   "execution_count": null,
   "metadata": {
    "collapsed": false
   },
   "outputs": [],
   "source": []
  },
  {
   "cell_type": "code",
   "execution_count": null,
   "metadata": {
    "collapsed": true
   },
   "outputs": [],
   "source": []
  }
 ],
 "metadata": {
  "kernelspec": {
   "display_name": "Python 2",
   "language": "python",
   "name": "python2"
  },
  "language_info": {
   "codemirror_mode": {
    "name": "ipython",
    "version": 2
   },
   "file_extension": ".py",
   "mimetype": "text/x-python",
   "name": "python",
   "nbconvert_exporter": "python",
   "pygments_lexer": "ipython2",
   "version": "2.7.12"
  }
 },
 "nbformat": 4,
 "nbformat_minor": 0
}
